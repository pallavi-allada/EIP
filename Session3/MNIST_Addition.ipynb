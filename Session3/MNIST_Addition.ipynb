{
  "nbformat": 4,
  "nbformat_minor": 0,
  "metadata": {
    "colab": {
      "name": "MNIST_Addition.ipynb",
      "provenance": [],
      "authorship_tag": "ABX9TyOBhNWRWIRUCHn2PQKrIQs7",
      "include_colab_link": true
    },
    "kernelspec": {
      "name": "python3",
      "display_name": "Python 3"
    },
    "language_info": {
      "name": "python"
    },
    "accelerator": "GPU"
  },
  "cells": [
    {
      "cell_type": "markdown",
      "metadata": {
        "id": "view-in-github",
        "colab_type": "text"
      },
      "source": [
        "<a href=\"https://colab.research.google.com/github/pallavi-allada/EIP/blob/master/Session3/MNIST_Addition.ipynb\" target=\"_parent\"><img src=\"https://colab.research.google.com/assets/colab-badge.svg\" alt=\"Open In Colab\"/></a>"
      ]
    },
    {
      "cell_type": "code",
      "metadata": {
        "id": "0OX92xLBEQrt"
      },
      "source": [
        "import torch\n",
        "import torchvision\n",
        "from torchvision import datasets, transforms\n",
        "import torch.nn.functional as F\n"
      ],
      "execution_count": 89,
      "outputs": []
    },
    {
      "cell_type": "code",
      "metadata": {
        "id": "UZKQ-NMBK4J8"
      },
      "source": [
        "# train = datasets.MNIST('', train=True, download=True)\n",
        "# test = datasets.MNIST('', train=False, download=True)\n",
        "# len(train),len(test), type(train), type(test)\n"
      ],
      "execution_count": 90,
      "outputs": []
    },
    {
      "cell_type": "code",
      "metadata": {
        "colab": {
          "base_uri": "https://localhost:8080/",
          "height": 282
        },
        "id": "oIZvxrmlNYGP",
        "outputId": "41639b90-974b-4170-d770-2b5bde24a3a7"
      },
      "source": [
        "test[0][0]\n",
        "from matplotlib.pyplot import imshow\n",
        "imshow(test[0][0])\n",
        "imshow(train[0][0])"
      ],
      "execution_count": 91,
      "outputs": [
        {
          "output_type": "execute_result",
          "data": {
            "text/plain": [
              "<matplotlib.image.AxesImage at 0x7fdf0960eb50>"
            ]
          },
          "metadata": {
            "tags": []
          },
          "execution_count": 91
        },
        {
          "output_type": "display_data",
          "data": {
            "image/png": "[encoded data removed]",
            "text/plain": [
              "<Figure size 432x288 with 1 Axes>"
            ]
          },
          "metadata": {
            "tags": [],
            "needs_background": "light"
          }
        }
      ]
    },
    {
      "cell_type": "code",
      "metadata": {
        "id": "ZYIRm71JTd-t"
      },
      "source": [
        "#Custom Dataset\n",
        "from torch.utils.data import Dataset\n",
        "from random import randint\n",
        "\n",
        "class CustomMNIST_Dataset(Dataset):\n",
        "  def __init__(self, istrain=True):\n",
        "    self.data = datasets.MNIST('', train=istrain, download=True , \n",
        "                               transform = transforms.Compose([\n",
        "                                   transforms.ToTensor()]))\n",
        "    self.one_hot = F.one_hot(torch.tensor([0,1,2,3,4,5,6,7,8,9]), num_classes=10)\n",
        "  \n",
        "  def __getitem__(self, idx):\n",
        "    num = randint(0,9)\n",
        "    rand_onehot = self.one_hot[num]\n",
        "    img = self.data[idx][0]\n",
        "    lbl = self.data[idx][1]\n",
        "    sum = lbl + num\n",
        "    return (img,rand_onehot,lbl,sum)\n",
        "\n",
        "  def __len__(self):\n",
        "    return len(self.data)\n",
        "\n"
      ],
      "execution_count": 92,
      "outputs": []
    },
    {
      "cell_type": "code",
      "metadata": {
        "colab": {
          "base_uri": "https://localhost:8080/"
        },
        "id": "n_9o_GUKE284",
        "outputId": "62c62b5b-c9b4-43c2-f5a5-7f2ca5a80f88"
      },
      "source": [
        "CustomMNIST_Dataset(True).__len__()"
      ],
      "execution_count": 93,
      "outputs": [
        {
          "output_type": "execute_result",
          "data": {
            "text/plain": [
              "60000"
            ]
          },
          "metadata": {
            "tags": []
          },
          "execution_count": 93
        }
      ]
    },
    {
      "cell_type": "code",
      "metadata": {
        "colab": {
          "base_uri": "https://localhost:8080/"
        },
        "id": "2ar51n1oJG7f",
        "outputId": "bc89300b-8c43-4626-d633-8d45d1c7b412"
      },
      "source": [
        "img, rand_onehot, lbl, sum = CustomMNIST_Dataset(True).__getitem__(99)\n",
        "print(img.shape, rand_onehot, lbl, sum)"
      ],
      "execution_count": 94,
      "outputs": [
        {
          "output_type": "stream",
          "text": [
            "torch.Size([1, 28, 28]) tensor([0, 0, 0, 0, 0, 0, 1, 0, 0, 0]) 1 7\n"
          ],
          "name": "stdout"
        }
      ]
    },
    {
      "cell_type": "code",
      "metadata": {
        "colab": {
          "base_uri": "https://localhost:8080/"
        },
        "id": "uQdo54aTiwVM",
        "outputId": "f4cea277-f5c5-460b-e35e-02a4f0ecc048"
      },
      "source": [
        "device=\"\"\n",
        "if torch.cuda.is_available():\n",
        "  device = 'cuda:0'\n",
        "print(device)"
      ],
      "execution_count": 95,
      "outputs": [
        {
          "output_type": "stream",
          "text": [
            "cuda:0\n"
          ],
          "name": "stdout"
        }
      ]
    },
    {
      "cell_type": "code",
      "metadata": {
        "id": "wS7cTVgklPXT"
      },
      "source": [
        "import torch.nn as nn\n",
        "from torch.nn import Module\n",
        "import torch.nn.functional as F\n",
        "\n",
        "class Net(nn.Module):\n",
        "  def __init__(self):\n",
        "        super(Net, self).__init__()\n",
        "        self.conv1 = nn.Conv2d(1, 32, 3, padding=1) \n",
        "        self.conv2 = nn.Conv2d(32, 64, 3, padding=1)\n",
        "        self.pool1 = nn.MaxPool2d(2, 2)\n",
        "        self.conv3 = nn.Conv2d(64, 128, 3, padding=1)\n",
        "        self.conv4 = nn.Conv2d(128, 256, 3, padding=1)\n",
        "        self.pool2 = nn.MaxPool2d(2, 2)\n",
        "        self.conv5 = nn.Conv2d(256, 512, 3)\n",
        "        self.conv6 = nn.Conv2d(512, 1024, 3)\n",
        "        self.conv7 = nn.Conv2d(1024, 10, 3)\n",
        "        self.onehot = F.one_hot(torch.tensor([0,1,2,3,4,5,6,7,8,9]), num_classes=10)\n",
        "        self.FC1 = nn.Linear(in_features=20, out_features=24)\n",
        "        self.FC2 = nn.Linear(in_features=24, out_features=19)\n",
        "  \n",
        "  def forward(self, img, num_one_hot):\n",
        "        img = self.pool1(F.relu(self.conv2(F.relu(self.conv1(img)))))\n",
        "        img = self.pool2(F.relu(self.conv4(F.relu(self.conv3(img)))))\n",
        "        img = F.relu(self.conv6(F.relu(self.conv5(img))))\n",
        "        img = F.relu(self.conv7(img))\n",
        "        img = img.view(-1, 10)\n",
        "        \n",
        "        mnist_out =  F.log_softmax(img, dim=1)\n",
        "        print(mnist_out.shape)\n",
        "\n",
        "        #Convert the MNIST o/p to one-hot encoded format\n",
        "        mnist_one_hot = self.onehot[mnist_out.argmax(dim=1)]\n",
        "        mnist_one_hot = mnist_one_hot.to(device)\n",
        "        concatenated = torch.cat((mnist_one_hot, num_one_hot), dim=1)\n",
        "\n",
        "        # print(concatenated)\n",
        "        concatenated = self.FC1(concatenated)\n",
        "        concatenated = self.FC2(concatenated)\n",
        "        sum_out = F.softmax(concatenated,dim=1)\n",
        "        \n",
        "        return mnist_out, sum_out\n",
        "\n"
      ],
      "execution_count": 96,
      "outputs": []
    },
    {
      "cell_type": "code",
      "metadata": {
        "id": "yS5qL-D6kPk6"
      },
      "source": [
        "import torch.optim as optim\n",
        "from torch.utils.data import DataLoader\n",
        "\n",
        "torch.set_grad_enabled(True) \n",
        "train_data = DataLoader(CustomMNIST_Dataset(True), batch_size=1000, shuffle = True)\n",
        "network = Net()\n",
        "network.to(device)\n",
        "optimizer = optim.Adam(network.parameters(), lr=0.05)\n"
      ],
      "execution_count": 97,
      "outputs": []
    },
    {
      "cell_type": "code",
      "metadata": {
        "id": "dag5wdjTkVjj"
      },
      "source": [
        "for epoch in range(20):\n",
        "  \n",
        "  total_loss = 0\n",
        "  total_correct = 0\n",
        "  total_correct_sum = 0\n",
        "\n",
        "  for batch in train_data: \n",
        "      img, rand_onehot, lbl, sum = batch\n",
        "      rand_onehot = torch.tensor(rand_onehot,dtype=torch.float32)\n",
        "      \n",
        "      img, lbl = img.to(device), lbl.to(device)\n",
        "      rand_onehot , sum  = rand_onehot.to(device) , sum.to(device)\n",
        "      # print(img.dtype,lbl.dtype,rand_onehot.dtype,sum.dtype)\n",
        "      # print(img,lbl,rand_onehot,sum)\n",
        "  \n",
        "      pred_image, pred_sum = network(img,rand_onehot)\n",
        "       \n",
        "      loss1 = F.cross_entropy(pred_image, lbl)\n",
        "      loss2 = F.cross_entropy(pred_sum, sum)\n",
        "      Loss = loss1 + loss2\n",
        "    \n",
        "      optimizer.zero_grad()\n",
        "      Loss.backward() # Calculate Gradients\n",
        "      \n",
        "      optimizer.step() # Update Weights        \n",
        "\n",
        "      total_loss += Loss.item()\n",
        "           \n",
        "      total_correct += pred_image.argmax(dim=1).eq(lbl).sum().item()\n",
        "      total_correct_sum += pred_sum.argmax(dim=1).eq(sum).sum().item()\n",
        "      \n",
        "  ImageAccuracy = (total_correct/60000)*100;\n",
        "  SumAccuracy = (total_correct_sum/60000)*100;\n",
        "  print(\n",
        "      \"\\n\\nEpoch: \", epoch,\n",
        "      \"\\nBatch Size: \",1000,\n",
        "      \"\\nPredicted image Count: \", total_correct,\n",
        "      \"Predicted sum Count: \", total_correct_sum,\n",
        "      #\"loss_1:\", total_loss1,\n",
        "      \"\\nTotal loss:\", total_loss,\n",
        "      \"\\nImage Accuracy: \",ImageAccuracy,\"Sum Accuracy: \", SumAccuracy\n",
        "  )"
      ],
      "execution_count": null,
      "outputs": []
    },
    {
      "cell_type": "code",
      "metadata": {
        "id": "LmRM9Bph3E2H"
      },
      "source": [
        ""
      ],
      "execution_count": null,
      "outputs": []
    }
  ]
}