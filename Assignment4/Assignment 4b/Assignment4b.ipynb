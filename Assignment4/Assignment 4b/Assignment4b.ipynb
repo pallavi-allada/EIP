{
  "nbformat": 4,
  "nbformat_minor": 0,
  "metadata": {
    "colab": {
      "name": "Assignment4b.ipynb",
      "provenance": [],
      "collapsed_sections": []
    },
    "kernelspec": {
      "name": "python3",
      "display_name": "Python 3"
    },
    "accelerator": "GPU"
  },
  "cells": [
    {
      "cell_type": "code",
      "metadata": {
        "id": "HOrc9d2jwJJV",
        "colab_type": "code",
        "colab": {}
      },
      "source": [
        "from __future__ import print_function\n",
        "import keras\n",
        "from keras.layers import Dense, Conv2D, BatchNormalization, Activation\n",
        "from keras.layers import AveragePooling2D, Input, Flatten\n",
        "from keras.optimizers import Adam\n",
        "from keras.callbacks import ModelCheckpoint, LearningRateScheduler\n",
        "from keras.callbacks import ReduceLROnPlateau\n",
        "from keras.preprocessing.image import ImageDataGenerator\n",
        "from keras.regularizers import l2\n",
        "from keras import backend as K\n",
        "from keras.models import Model\n",
        "from keras.datasets import cifar10\n",
        "import numpy as np\n",
        "import os"
      ],
      "execution_count": 0,
      "outputs": []
    },
    {
      "cell_type": "code",
      "metadata": {
        "id": "owV7H1SDxURD",
        "colab_type": "code",
        "colab": {}
      },
      "source": [
        "import numpy as np\n",
        "\n",
        "\n",
        "def get_random_eraser(p=0.5, s_l=0.02, s_h=0.4, r_1=0.3, r_2=1/0.3, v_l=0, v_h=255, pixel_level=False):\n",
        "    def eraser(input_img):\n",
        "        img_h, img_w, img_c = input_img.shape\n",
        "        p_1 = np.random.rand()\n",
        "\n",
        "        if p_1 > p:\n",
        "            return input_img\n",
        "\n",
        "        while True:\n",
        "            s = np.random.uniform(s_l, s_h) * img_h * img_w\n",
        "            r = np.random.uniform(r_1, r_2)\n",
        "            w = int(np.sqrt(s / r))\n",
        "            h = int(np.sqrt(s * r))\n",
        "            left = np.random.randint(0, img_w)\n",
        "            top = np.random.randint(0, img_h)\n",
        "\n",
        "            if left + w <= img_w and top + h <= img_h:\n",
        "                break\n",
        "\n",
        "        if pixel_level:\n",
        "            c = np.random.uniform(v_l, v_h, (h, w, img_c))\n",
        "        else:\n",
        "            c = np.random.uniform(v_l, v_h)\n",
        "\n",
        "        input_img[top:top + h, left:left + w, :] = c\n",
        "\n",
        "        return input_img\n",
        "\n",
        "    return eraser"
      ],
      "execution_count": 0,
      "outputs": []
    },
    {
      "cell_type": "code",
      "metadata": {
        "id": "eZHBoQjnwRl2",
        "colab_type": "code",
        "colab": {}
      },
      "source": [
        "# Training parameters\n",
        "batch_size = 128  # orig paper trained all networks with batch_size=128 #***\n",
        "epochs = 50\n",
        "data_augmentation = True\n",
        "num_classes = 10"
      ],
      "execution_count": 0,
      "outputs": []
    },
    {
      "cell_type": "code",
      "metadata": {
        "id": "dizMsjY8wNPW",
        "colab_type": "code",
        "colab": {}
      },
      "source": [
        "# Subtracting pixel mean improves accuracy\n",
        "subtract_pixel_mean = True\n",
        "n = 3  \n",
        "# Model version\n",
        "# Orig paper: version = 1 (ResNet v1), Improved ResNet: version = 2 (ResNet v2)\n",
        "version = 1\n",
        "\n",
        "# Computed depth from supplied model parameter n\n",
        "if version == 1:\n",
        "    depth = n * 6 + 2\n",
        "elif version == 2:\n",
        "    depth = n * 9 + 2\n",
        "\n",
        "#lets fix depth at 18 as its resnet18 has 18 layers\n",
        "# depth=18\n",
        "\n",
        "# Model name, depth and version\n",
        "model_type = 'ResNet%dv%d' % (depth, version)\n",
        "\n",
        "# Load the CIFAR10 data.\n",
        "(x_train, y_train), (x_test, y_test) = cifar10.load_data()"
      ],
      "execution_count": 0,
      "outputs": []
    },
    {
      "cell_type": "code",
      "metadata": {
        "id": "7bLY8aNHwUuW",
        "colab_type": "code",
        "colab": {
          "base_uri": "https://localhost:8080/",
          "height": 87
        },
        "outputId": "efd42c59-22a1-4290-f47e-2e17803d6cde"
      },
      "source": [
        "# Input image dimensions.\n",
        "input_shape = x_train.shape[1:]\n",
        "\n",
        "# Normalize data.\n",
        "x_train = x_train.astype('float32') / 255\n",
        "x_test = x_test.astype('float32') / 255\n",
        "\n",
        "# If subtract pixel mean is enabled\n",
        "if subtract_pixel_mean:\n",
        "    x_train_mean = np.mean(x_train, axis=0)\n",
        "    x_train -= x_train_mean\n",
        "    x_test -= x_train_mean\n",
        "\n",
        "print('x_train shape:', x_train.shape)\n",
        "print(x_train.shape[0], 'train samples')\n",
        "print(x_test.shape[0], 'test samples')\n",
        "print('y_train shape:', y_train.shape)\n",
        "\n",
        "from keras.utils import np_utils\n",
        "# convert class labels to binary class labels\n",
        "y_train = np_utils.to_categorical(y_train, num_classes)\n",
        "y_test = np_utils.to_categorical(y_test, num_classes)"
      ],
      "execution_count": 66,
      "outputs": [
        {
          "output_type": "stream",
          "text": [
            "x_train shape: (50000, 32, 32, 3)\n",
            "50000 train samples\n",
            "10000 test samples\n",
            "y_train shape: (50000, 1)\n"
          ],
          "name": "stdout"
        }
      ]
    },
    {
      "cell_type": "code",
      "metadata": {
        "id": "lHH9dV1bw35w",
        "colab_type": "code",
        "colab": {}
      },
      "source": [
        "def lr_schedule(epoch):\n",
        "    \"\"\"Learning Rate Schedule\n",
        "\n",
        "    Learning rate is scheduled to be reduced after 80, 120, 160, 180 epochs.\n",
        "    Called automatically every epoch as part of callbacks during training.\n",
        "\n",
        "    # Arguments\n",
        "        epoch (int): The number of epochs\n",
        "\n",
        "    # Returns\n",
        "        lr (float32): learning rate\n",
        "    \"\"\"\n",
        "    lr = 1e-3\n",
        "    if epoch > 40:\n",
        "        lr *= 0.5e-3\n",
        "    elif epoch > 30:\n",
        "        lr *= 1e-3\n",
        "    elif epoch > 20:\n",
        "        lr *= 1e-2\n",
        "    elif epoch > 10:\n",
        "        lr *= 1e-1\n",
        "    print('Learning rate: ', lr)\n",
        "    return lr"
      ],
      "execution_count": 0,
      "outputs": []
    },
    {
      "cell_type": "code",
      "metadata": {
        "id": "-B0GlFoiwbB7",
        "colab_type": "code",
        "colab": {}
      },
      "source": [
        "def resnet_layer(inputs,\n",
        "                 num_filters=64,\n",
        "                 kernel_size=3,\n",
        "                 strides=1,\n",
        "                 activation='relu',\n",
        "                 batch_normalization=True,\n",
        "                 conv_first=True):\n",
        "    \"\"\"2D Convolution-Batch Normalization-Activation stack builder\n",
        "\n",
        "    # Arguments\n",
        "        inputs (tensor): input tensor from input image or previous layer\n",
        "        num_filters (int): Conv2D number of filters\n",
        "        kernel_size (int): Conv2D square kernel dimensions\n",
        "        strides (int): Conv2D square stride dimensions\n",
        "        activation (string): activation name\n",
        "        batch_normalization (bool): whether to include batch normalization\n",
        "        conv_first (bool): conv-bn-activation (True) or\n",
        "            bn-activation-conv (False)\n",
        "\n",
        "    # Returns\n",
        "        x (tensor): tensor as input to the next layer\n",
        "    \"\"\"\n",
        "    conv = Conv2D(num_filters,\n",
        "                  kernel_size=kernel_size,\n",
        "                  strides=strides,\n",
        "                  padding='same',\n",
        "                  kernel_initializer='he_normal',\n",
        "                  kernel_regularizer=l2(1e-4))\n",
        "\n",
        "    x = inputs\n",
        "    if conv_first:\n",
        "        x = conv(x)\n",
        "        if batch_normalization:\n",
        "            x = BatchNormalization()(x)\n",
        "        if activation is not None:\n",
        "            x = Activation(activation)(x)\n",
        "    else:\n",
        "        if batch_normalization:\n",
        "            x = BatchNormalization()(x)\n",
        "        if activation is not None:\n",
        "            x = Activation(activation)(x)\n",
        "        x = conv(x)\n",
        "    return x\n",
        "\n"
      ],
      "execution_count": 0,
      "outputs": []
    },
    {
      "cell_type": "code",
      "metadata": {
        "id": "LGYxFk2iwqjV",
        "colab_type": "code",
        "colab": {}
      },
      "source": [
        "from keras.layers import GlobalAveragePooling2D\n",
        "def resnet_v1(input_shape, depth, num_classes=10):\n",
        "    \"\"\"ResNet Version 1 Model builder [a]\n",
        "\n",
        "    Stacks of 2 x (3 x 3) Conv2D-BN-ReLU\n",
        "    Last ReLU is after the shortcut connection.\n",
        "    At the beginning of each stage, the feature map size is halved (downsampled)\n",
        "    by a convolutional layer with strides=2, while the number of filters is\n",
        "    doubled. Within each stage, the layers have the same number filters and the\n",
        "    same number of filters.\n",
        "    Features maps sizes:\n",
        "    stage 0: 32x32, 16\n",
        "    stage 1: 16x16, 32\n",
        "    stage 2:  8x8,  64\n",
        "    The Number of parameters is approx the same as Table 6 of [a]:\n",
        "    ResNet20 0.27M\n",
        "    ResNet32 0.46M\n",
        "    ResNet44 0.66M\n",
        "    ResNet56 0.85M\n",
        "    ResNet110 1.7M\n",
        "\n",
        "    # Arguments\n",
        "        input_shape (tensor): shape of input image tensor\n",
        "        depth (int): number of core convolutional layers\n",
        "        num_classes (int): number of classes (CIFAR10 has 10)\n",
        "\n",
        "    # Returns\n",
        "        model (Model): Keras model instance\n",
        "    \"\"\"\n",
        "    # if (depth - 2) % 6 != 0:\n",
        "    #     raise ValueError('depth should be 6n+2 (eg 20, 32, 44 in [a])')\n",
        "    # Start model definition.\n",
        "    num_filters = 64\n",
        "    num_res_blocks = int((depth) / 6) -1\n",
        "    print(\"num_res_blocks\",num_res_blocks)\n",
        "    inputs = Input(shape=input_shape)\n",
        "    x = resnet_layer(inputs=inputs)\n",
        "    # Instantiate the stack of residual units\n",
        "    for stack in range(4):\n",
        "        for res_block in range(num_res_blocks):\n",
        "            strides = 1\n",
        "            if stack > 0 and res_block == 0:  # first layer but not first stack\n",
        "                strides = 2  # downsample\n",
        "            y = resnet_layer(inputs=x,\n",
        "                             num_filters=num_filters,\n",
        "                             strides=strides)\n",
        "            y = resnet_layer(inputs=y,\n",
        "                             num_filters=num_filters,\n",
        "                             activation=None)\n",
        "            if stack > 0 and res_block == 0:  # first layer but not first stack\n",
        "                # linear projection residual shortcut connection to match\n",
        "                # changed dims\n",
        "                x = resnet_layer(inputs=x,\n",
        "                                 num_filters=num_filters,\n",
        "                                 kernel_size=1,\n",
        "                                 strides=strides,\n",
        "                                 activation=None,\n",
        "                                 batch_normalization=False)\n",
        "            x = keras.layers.add([x, y])\n",
        "            x = Activation('relu')(x)\n",
        "        num_filters *= 2\n",
        "\n",
        "    # Add classifier on top.\n",
        "    # v1 does not use BN after last shortcut connection-ReLU\n",
        "    x =  GlobalAveragePooling2D()(x)#AveragePooling2D(pool_size=8)(x)\n",
        "    # y = Flatten()(x)\n",
        "    outputs = Dense(num_classes,\n",
        "                    activation='softmax',\n",
        "                    kernel_initializer='he_normal')(x)\n",
        "\n",
        "    # Instantiate model.\n",
        "    model = Model(inputs=inputs, outputs=outputs)\n",
        "    return model\n"
      ],
      "execution_count": 0,
      "outputs": []
    },
    {
      "cell_type": "code",
      "metadata": {
        "id": "q1qLhYGb7Rwt",
        "colab_type": "code",
        "colab": {}
      },
      "source": [
        "def resnet_v2(input_shape, depth, num_classes=10):\n",
        "    \"\"\"ResNet Version 2 Model builder [b]\n",
        "\n",
        "    Stacks of (1 x 1)-(3 x 3)-(1 x 1) BN-ReLU-Conv2D or also known as\n",
        "    bottleneck layer\n",
        "    First shortcut connection per layer is 1 x 1 Conv2D.\n",
        "    Second and onwards shortcut connection is identity.\n",
        "    At the beginning of each stage, the feature map size is halved (downsampled)\n",
        "    by a convolutional layer with strides=2, while the number of filter maps is\n",
        "    doubled. Within each stage, the layers have the same number filters and the\n",
        "    same filter map sizes.\n",
        "    Features maps sizes:\n",
        "    conv1  : 32x32,  16\n",
        "    stage 0: 32x32,  64\n",
        "    stage 1: 16x16, 128\n",
        "    stage 2:  8x8,  256\n",
        "\n",
        "    # Arguments\n",
        "        input_shape (tensor): shape of input image tensor\n",
        "        depth (int): number of core convolutional layers\n",
        "        num_classes (int): number of classes (CIFAR10 has 10)\n",
        "\n",
        "    # Returns\n",
        "        model (Model): Keras model instance\n",
        "    \"\"\"\n",
        "    if (depth - 2) % 9 != 0:\n",
        "        raise ValueError('depth should be 9n+2 (eg 56 or 110 in [b])')\n",
        "    # Start model definition.\n",
        "    num_filters_in = 16\n",
        "    num_res_blocks = int((depth - 2) / 9)\n",
        "\n",
        "    inputs = Input(shape=input_shape)\n",
        "    # v2 performs Conv2D with BN-ReLU on input before splitting into 2 paths\n",
        "    x = resnet_layer(inputs=inputs,\n",
        "                     num_filters=num_filters_in,\n",
        "                     conv_first=True)\n",
        "\n",
        "    # Instantiate the stack of residual units\n",
        "    for stage in range(3):\n",
        "        for res_block in range(num_res_blocks):\n",
        "            activation = 'relu'\n",
        "            batch_normalization = True\n",
        "            strides = 1\n",
        "            if stage == 0:\n",
        "                num_filters_out = num_filters_in * 4\n",
        "                if res_block == 0:  # first layer and first stage\n",
        "                    activation = None\n",
        "                    batch_normalization = False\n",
        "            else:\n",
        "                num_filters_out = num_filters_in * 2\n",
        "                if res_block == 0:  # first layer but not first stage\n",
        "                    strides = 2    # downsample\n",
        "\n",
        "            # bottleneck residual unit\n",
        "            y = resnet_layer(inputs=x,\n",
        "                             num_filters=num_filters_in,\n",
        "                             kernel_size=1,\n",
        "                             strides=strides,\n",
        "                             activation=activation,\n",
        "                             batch_normalization=batch_normalization,\n",
        "                             conv_first=False)\n",
        "            y = resnet_layer(inputs=y,\n",
        "                             num_filters=num_filters_in,\n",
        "                             conv_first=False)\n",
        "            y = resnet_layer(inputs=y,\n",
        "                             num_filters=num_filters_out,\n",
        "                             kernel_size=1,\n",
        "                             conv_first=False)\n",
        "            if res_block == 0:\n",
        "                # linear projection residual shortcut connection to match\n",
        "                # changed dims\n",
        "                x = resnet_layer(inputs=x,\n",
        "                                 num_filters=num_filters_out,\n",
        "                                 kernel_size=1,\n",
        "                                 strides=strides,\n",
        "                                 activation=None,\n",
        "                                 batch_normalization=False)\n",
        "            x = keras.layers.add([x, y])\n",
        "\n",
        "        num_filters_in = num_filters_out\n",
        "\n",
        "    # Add classifier on top.\n",
        "    # v2 has BN-ReLU before Pooling\n",
        "    x = BatchNormalization()(x)\n",
        "    x = Activation('relu')(x)\n",
        "    x = GlobalAveragePooling2D()(x)\n",
        "    # x = AveragePooling2D(pool_size=8)(x)\n",
        "    # y = Flatten()(x)\n",
        "    outputs = Dense(num_classes,\n",
        "                    activation='softmax',\n",
        "                    kernel_initializer='he_normal')(x)\n",
        "\n",
        "    # Instantiate model.\n",
        "    model = Model(inputs=inputs, outputs=outputs)\n",
        "    return model"
      ],
      "execution_count": 0,
      "outputs": []
    },
    {
      "cell_type": "code",
      "metadata": {
        "id": "h2YKwtLX4nV6",
        "colab_type": "code",
        "colab": {
          "base_uri": "https://localhost:8080/",
          "height": 1000
        },
        "outputId": "543e6e53-6e2d-4b86-de9c-07103d9f4d28"
      },
      "source": [
        "if version == 2:\n",
        "    model = resnet_v2(input_shape=input_shape, depth=depth)\n",
        "else:\n",
        "    model = resnet_v1(input_shape=input_shape, depth=depth)\n",
        "\n",
        "model.compile(loss='categorical_crossentropy',\n",
        "              optimizer=Adam(lr=lr_schedule(0)),\n",
        "              metrics=['accuracy'])\n",
        "model.summary()\n",
        "print(model_type)"
      ],
      "execution_count": 79,
      "outputs": [
        {
          "output_type": "stream",
          "text": [
            "num_res_blocks 2\n",
            "Learning rate:  0.001\n",
            "Model: \"model_7\"\n",
            "__________________________________________________________________________________________________\n",
            "Layer (type)                    Output Shape         Param #     Connected to                     \n",
            "==================================================================================================\n",
            "input_8 (InputLayer)            (None, 32, 32, 3)    0                                            \n",
            "__________________________________________________________________________________________________\n",
            "conv2d_141 (Conv2D)             (None, 32, 32, 64)   1792        input_8[0][0]                    \n",
            "__________________________________________________________________________________________________\n",
            "batch_normalization_120 (BatchN (None, 32, 32, 64)   256         conv2d_141[0][0]                 \n",
            "__________________________________________________________________________________________________\n",
            "activation_120 (Activation)     (None, 32, 32, 64)   0           batch_normalization_120[0][0]    \n",
            "__________________________________________________________________________________________________\n",
            "conv2d_142 (Conv2D)             (None, 32, 32, 64)   36928       activation_120[0][0]             \n",
            "__________________________________________________________________________________________________\n",
            "batch_normalization_121 (BatchN (None, 32, 32, 64)   256         conv2d_142[0][0]                 \n",
            "__________________________________________________________________________________________________\n",
            "activation_121 (Activation)     (None, 32, 32, 64)   0           batch_normalization_121[0][0]    \n",
            "__________________________________________________________________________________________________\n",
            "conv2d_143 (Conv2D)             (None, 32, 32, 64)   36928       activation_121[0][0]             \n",
            "__________________________________________________________________________________________________\n",
            "batch_normalization_122 (BatchN (None, 32, 32, 64)   256         conv2d_143[0][0]                 \n",
            "__________________________________________________________________________________________________\n",
            "add_57 (Add)                    (None, 32, 32, 64)   0           activation_120[0][0]             \n",
            "                                                                 batch_normalization_122[0][0]    \n",
            "__________________________________________________________________________________________________\n",
            "activation_122 (Activation)     (None, 32, 32, 64)   0           add_57[0][0]                     \n",
            "__________________________________________________________________________________________________\n",
            "conv2d_144 (Conv2D)             (None, 32, 32, 64)   36928       activation_122[0][0]             \n",
            "__________________________________________________________________________________________________\n",
            "batch_normalization_123 (BatchN (None, 32, 32, 64)   256         conv2d_144[0][0]                 \n",
            "__________________________________________________________________________________________________\n",
            "activation_123 (Activation)     (None, 32, 32, 64)   0           batch_normalization_123[0][0]    \n",
            "__________________________________________________________________________________________________\n",
            "conv2d_145 (Conv2D)             (None, 32, 32, 64)   36928       activation_123[0][0]             \n",
            "__________________________________________________________________________________________________\n",
            "batch_normalization_124 (BatchN (None, 32, 32, 64)   256         conv2d_145[0][0]                 \n",
            "__________________________________________________________________________________________________\n",
            "add_58 (Add)                    (None, 32, 32, 64)   0           activation_122[0][0]             \n",
            "                                                                 batch_normalization_124[0][0]    \n",
            "__________________________________________________________________________________________________\n",
            "activation_124 (Activation)     (None, 32, 32, 64)   0           add_58[0][0]                     \n",
            "__________________________________________________________________________________________________\n",
            "conv2d_146 (Conv2D)             (None, 16, 16, 128)  73856       activation_124[0][0]             \n",
            "__________________________________________________________________________________________________\n",
            "batch_normalization_125 (BatchN (None, 16, 16, 128)  512         conv2d_146[0][0]                 \n",
            "__________________________________________________________________________________________________\n",
            "activation_125 (Activation)     (None, 16, 16, 128)  0           batch_normalization_125[0][0]    \n",
            "__________________________________________________________________________________________________\n",
            "conv2d_147 (Conv2D)             (None, 16, 16, 128)  147584      activation_125[0][0]             \n",
            "__________________________________________________________________________________________________\n",
            "conv2d_148 (Conv2D)             (None, 16, 16, 128)  8320        activation_124[0][0]             \n",
            "__________________________________________________________________________________________________\n",
            "batch_normalization_126 (BatchN (None, 16, 16, 128)  512         conv2d_147[0][0]                 \n",
            "__________________________________________________________________________________________________\n",
            "add_59 (Add)                    (None, 16, 16, 128)  0           conv2d_148[0][0]                 \n",
            "                                                                 batch_normalization_126[0][0]    \n",
            "__________________________________________________________________________________________________\n",
            "activation_126 (Activation)     (None, 16, 16, 128)  0           add_59[0][0]                     \n",
            "__________________________________________________________________________________________________\n",
            "conv2d_149 (Conv2D)             (None, 16, 16, 128)  147584      activation_126[0][0]             \n",
            "__________________________________________________________________________________________________\n",
            "batch_normalization_127 (BatchN (None, 16, 16, 128)  512         conv2d_149[0][0]                 \n",
            "__________________________________________________________________________________________________\n",
            "activation_127 (Activation)     (None, 16, 16, 128)  0           batch_normalization_127[0][0]    \n",
            "__________________________________________________________________________________________________\n",
            "conv2d_150 (Conv2D)             (None, 16, 16, 128)  147584      activation_127[0][0]             \n",
            "__________________________________________________________________________________________________\n",
            "batch_normalization_128 (BatchN (None, 16, 16, 128)  512         conv2d_150[0][0]                 \n",
            "__________________________________________________________________________________________________\n",
            "add_60 (Add)                    (None, 16, 16, 128)  0           activation_126[0][0]             \n",
            "                                                                 batch_normalization_128[0][0]    \n",
            "__________________________________________________________________________________________________\n",
            "activation_128 (Activation)     (None, 16, 16, 128)  0           add_60[0][0]                     \n",
            "__________________________________________________________________________________________________\n",
            "conv2d_151 (Conv2D)             (None, 8, 8, 256)    295168      activation_128[0][0]             \n",
            "__________________________________________________________________________________________________\n",
            "batch_normalization_129 (BatchN (None, 8, 8, 256)    1024        conv2d_151[0][0]                 \n",
            "__________________________________________________________________________________________________\n",
            "activation_129 (Activation)     (None, 8, 8, 256)    0           batch_normalization_129[0][0]    \n",
            "__________________________________________________________________________________________________\n",
            "conv2d_152 (Conv2D)             (None, 8, 8, 256)    590080      activation_129[0][0]             \n",
            "__________________________________________________________________________________________________\n",
            "conv2d_153 (Conv2D)             (None, 8, 8, 256)    33024       activation_128[0][0]             \n",
            "__________________________________________________________________________________________________\n",
            "batch_normalization_130 (BatchN (None, 8, 8, 256)    1024        conv2d_152[0][0]                 \n",
            "__________________________________________________________________________________________________\n",
            "add_61 (Add)                    (None, 8, 8, 256)    0           conv2d_153[0][0]                 \n",
            "                                                                 batch_normalization_130[0][0]    \n",
            "__________________________________________________________________________________________________\n",
            "activation_130 (Activation)     (None, 8, 8, 256)    0           add_61[0][0]                     \n",
            "__________________________________________________________________________________________________\n",
            "conv2d_154 (Conv2D)             (None, 8, 8, 256)    590080      activation_130[0][0]             \n",
            "__________________________________________________________________________________________________\n",
            "batch_normalization_131 (BatchN (None, 8, 8, 256)    1024        conv2d_154[0][0]                 \n",
            "__________________________________________________________________________________________________\n",
            "activation_131 (Activation)     (None, 8, 8, 256)    0           batch_normalization_131[0][0]    \n",
            "__________________________________________________________________________________________________\n",
            "conv2d_155 (Conv2D)             (None, 8, 8, 256)    590080      activation_131[0][0]             \n",
            "__________________________________________________________________________________________________\n",
            "batch_normalization_132 (BatchN (None, 8, 8, 256)    1024        conv2d_155[0][0]                 \n",
            "__________________________________________________________________________________________________\n",
            "add_62 (Add)                    (None, 8, 8, 256)    0           activation_130[0][0]             \n",
            "                                                                 batch_normalization_132[0][0]    \n",
            "__________________________________________________________________________________________________\n",
            "activation_132 (Activation)     (None, 8, 8, 256)    0           add_62[0][0]                     \n",
            "__________________________________________________________________________________________________\n",
            "conv2d_156 (Conv2D)             (None, 4, 4, 512)    1180160     activation_132[0][0]             \n",
            "__________________________________________________________________________________________________\n",
            "batch_normalization_133 (BatchN (None, 4, 4, 512)    2048        conv2d_156[0][0]                 \n",
            "__________________________________________________________________________________________________\n",
            "activation_133 (Activation)     (None, 4, 4, 512)    0           batch_normalization_133[0][0]    \n",
            "__________________________________________________________________________________________________\n",
            "conv2d_157 (Conv2D)             (None, 4, 4, 512)    2359808     activation_133[0][0]             \n",
            "__________________________________________________________________________________________________\n",
            "conv2d_158 (Conv2D)             (None, 4, 4, 512)    131584      activation_132[0][0]             \n",
            "__________________________________________________________________________________________________\n",
            "batch_normalization_134 (BatchN (None, 4, 4, 512)    2048        conv2d_157[0][0]                 \n",
            "__________________________________________________________________________________________________\n",
            "add_63 (Add)                    (None, 4, 4, 512)    0           conv2d_158[0][0]                 \n",
            "                                                                 batch_normalization_134[0][0]    \n",
            "__________________________________________________________________________________________________\n",
            "activation_134 (Activation)     (None, 4, 4, 512)    0           add_63[0][0]                     \n",
            "__________________________________________________________________________________________________\n",
            "conv2d_159 (Conv2D)             (None, 4, 4, 512)    2359808     activation_134[0][0]             \n",
            "__________________________________________________________________________________________________\n",
            "batch_normalization_135 (BatchN (None, 4, 4, 512)    2048        conv2d_159[0][0]                 \n",
            "__________________________________________________________________________________________________\n",
            "activation_135 (Activation)     (None, 4, 4, 512)    0           batch_normalization_135[0][0]    \n",
            "__________________________________________________________________________________________________\n",
            "conv2d_160 (Conv2D)             (None, 4, 4, 512)    2359808     activation_135[0][0]             \n",
            "__________________________________________________________________________________________________\n",
            "batch_normalization_136 (BatchN (None, 4, 4, 512)    2048        conv2d_160[0][0]                 \n",
            "__________________________________________________________________________________________________\n",
            "add_64 (Add)                    (None, 4, 4, 512)    0           activation_134[0][0]             \n",
            "                                                                 batch_normalization_136[0][0]    \n",
            "__________________________________________________________________________________________________\n",
            "activation_136 (Activation)     (None, 4, 4, 512)    0           add_64[0][0]                     \n",
            "__________________________________________________________________________________________________\n",
            "global_average_pooling2d_7 (Glo (None, 512)          0           activation_136[0][0]             \n",
            "__________________________________________________________________________________________________\n",
            "dense_7 (Dense)                 (None, 10)           5130        global_average_pooling2d_7[0][0] \n",
            "==================================================================================================\n",
            "Total params: 11,184,778\n",
            "Trainable params: 11,176,970\n",
            "Non-trainable params: 7,808\n",
            "__________________________________________________________________________________________________\n",
            "ResNet18v1\n"
          ],
          "name": "stdout"
        }
      ]
    },
    {
      "cell_type": "code",
      "metadata": {
        "id": "a2Piy1mfxDVo",
        "colab_type": "code",
        "colab": {}
      },
      "source": [
        "# Prepare model model saving directory.\n",
        "save_dir = os.path.join(os.getcwd(), 'saved_models')\n",
        "model_name = 'cifar10_%s_model.{epoch:03d}.h5' % model_type\n",
        "if not os.path.isdir(save_dir):\n",
        "    os.makedirs(save_dir)\n",
        "filepath = os.path.join(save_dir, model_name)\n",
        "\n",
        "# Prepare callbacks for model saving and for learning rate adjustment.\n",
        "checkpoint = ModelCheckpoint(filepath=filepath,\n",
        "                             monitor='val_acc',\n",
        "                             verbose=1,\n",
        "                             save_best_only=True)\n",
        "\n",
        "lr_scheduler = LearningRateScheduler(lr_schedule)\n",
        "\n",
        "lr_reducer = ReduceLROnPlateau(factor=np.sqrt(0.1),\n",
        "                               cooldown=0,\n",
        "                               patience=5,\n",
        "                               min_lr=0.5e-6, monitor='val_loss')\n",
        "\n",
        "callbacks = [checkpoint, lr_reducer]\n"
      ],
      "execution_count": 0,
      "outputs": []
    },
    {
      "cell_type": "code",
      "metadata": {
        "id": "WClWoM6JxK8w",
        "colab_type": "code",
        "colab": {
          "base_uri": "https://localhost:8080/",
          "height": 1000
        },
        "outputId": "af8e1067-983a-47c2-89ba-4b7579e6cd11"
      },
      "source": [
        "from keras.preprocessing.image import ImageDataGenerator\n",
        "# Run training, with or without data augmentation.\n",
        "if not data_augmentation:\n",
        "    print('Not using data augmentation.')\n",
        "    model.fit(x_train, y_train,\n",
        "              batch_size=batch_size,\n",
        "              epochs=epochs,\n",
        "              validation_data=(x_test, y_test),\n",
        "              shuffle=True,\n",
        "              callbacks=callbacks)\n",
        "else:\n",
        "    print('Using real-time data augmentation.')\n",
        "    # This will do preprocessing and realtime data augmentation:\n",
        "    #Replacing only non default values and using cutout..try mixup also later\n",
        "    datagen = ImageDataGenerator(horizontal_flip=True,preprocessing_function=get_random_eraser(v_l=0, v_h=1))\n",
        "    # ImageDataGenerator(featurewise_center=False, samplewise_center=False, featurewise_std_normalization=False, samplewise_std_normalization=False, zca_whitening=False, \n",
        "    #                    zca_epsilon=1e-06, rotation_range=0, width_shift_range=0.0, height_shift_range=0.0, brightness_range=None, shear_range=0.0, zoom_range=0.0, \n",
        "    #                    channel_shift_range=0.0, fill_mode='nearest', cval=0.0, \n",
        "    #                    horizontal_flip=False, vertical_flip=False, rescale=None, preprocessing_function=None, data_format='channels_last', validation_split=0.0, interpolation_order=1, dtype='float32')\n",
        "    # datagen = ImageDataGenerator(\n",
        "    #     # set input mean to 0 over the dataset\n",
        "    #     featurewise_center=False,\n",
        "    #     # set each sample mean to 0\n",
        "    #     samplewise_center=False,\n",
        "    #     # divide inputs by std of dataset\n",
        "    #     featurewise_std_normalization=False,\n",
        "    #     # divide each input by its std\n",
        "    #     samplewise_std_normalization=False,\n",
        "    #     # apply ZCA whitening\n",
        "    #     zca_whitening=False,\n",
        "    #     # epsilon for ZCA whitening\n",
        "    #     zca_epsilon=1e-06,\n",
        "    #     # randomly rotate images in the range (deg 0 to 180)\n",
        "    #     rotation_range=0,\n",
        "    #     # randomly shift images horizontally\n",
        "    #     width_shift_range=0.1,\n",
        "    #     # randomly shift images vertically\n",
        "    #     height_shift_range=0.1,\n",
        "    #     # set range for random shear\n",
        "    #     shear_range=0.,\n",
        "    #     # set range for random zoom\n",
        "    #     zoom_range=0.,\n",
        "    #     # set range for random channel shifts\n",
        "    #     channel_shift_range=0.,\n",
        "    #     # set mode for filling points outside the input boundaries\n",
        "    #     fill_mode='nearest',\n",
        "    #     # value used for fill_mode = \"constant\"\n",
        "    #     cval=0.,\n",
        "    #     # randomly flip images\n",
        "    #     horizontal_flip=True,\n",
        "    #     # randomly flip images\n",
        "    #     vertical_flip=False,\n",
        "    #     # set rescaling factor (applied before any other transformation)\n",
        "    #     rescale=None,\n",
        "    #     # set function that will be applied on each input\n",
        "    #     preprocessing_function=None,\n",
        "    #     # image data format, either \"channels_first\" or \"channels_last\"\n",
        "    #     data_format=None,\n",
        "    #     # fraction of images reserved for validation (strictly between 0 and 1)\n",
        "    #     validation_split=0.0)\n",
        "\n",
        "    # Compute quantities required for featurewise normalization\n",
        "    # (std, mean, and principal components if ZCA whitening is applied).\n",
        "    datagen.fit(x_train)\n",
        "\n",
        "    # Fit the model on the batches generated by datagen.flow().\n",
        "    model.fit_generator(datagen.flow(x_train, y_train, batch_size=batch_size),\n",
        "                        validation_data=(x_test, y_test),\n",
        "                        epochs=epochs, verbose=1, workers=4,samples_per_epoch = x_train.shape[0],shuffle=True,\n",
        "                        callbacks=callbacks)\n",
        "# Score trained model.\n",
        "scores = model.evaluate(x_test, y_test, verbose=1)\n",
        "print('Test loss:', scores[0])\n",
        "print('Test accuracy:', scores[1])\n",
        "\n"
      ],
      "execution_count": 81,
      "outputs": [
        {
          "output_type": "stream",
          "text": [
            "Using real-time data augmentation.\n"
          ],
          "name": "stdout"
        },
        {
          "output_type": "stream",
          "text": [
            "/usr/local/lib/python3.6/dist-packages/ipykernel_launcher.py:70: UserWarning: Update your `fit_generator` call to the Keras 2 API: `fit_generator(<keras_pre..., validation_data=(array([[[..., epochs=50, verbose=1, workers=4, shuffle=True, callbacks=[<keras.ca..., steps_per_epoch=390)`\n"
          ],
          "name": "stderr"
        },
        {
          "output_type": "stream",
          "text": [
            "Epoch 1/50\n",
            "390/390 [==============================] - 39s 100ms/step - loss: 2.3176 - acc: 0.4946 - val_loss: 2.5286 - val_acc: 0.4523\n",
            "\n",
            "Epoch 00001: val_acc improved from -inf to 0.45230, saving model to /content/saved_models/cifar10_ResNet18v1_model.001.h5\n",
            "Epoch 2/50\n",
            "390/390 [==============================] - 33s 84ms/step - loss: 1.6117 - acc: 0.6592 - val_loss: 1.6613 - val_acc: 0.6282\n",
            "\n",
            "Epoch 00002: val_acc improved from 0.45230 to 0.62820, saving model to /content/saved_models/cifar10_ResNet18v1_model.002.h5\n",
            "Epoch 3/50\n",
            "390/390 [==============================] - 32s 83ms/step - loss: 1.3122 - acc: 0.7330 - val_loss: 1.7772 - val_acc: 0.6087\n",
            "\n",
            "Epoch 00003: val_acc did not improve from 0.62820\n",
            "Epoch 4/50\n",
            "390/390 [==============================] - 33s 83ms/step - loss: 1.1536 - acc: 0.7701 - val_loss: 1.3005 - val_acc: 0.7203\n",
            "\n",
            "Epoch 00004: val_acc improved from 0.62820 to 0.72030, saving model to /content/saved_models/cifar10_ResNet18v1_model.004.h5\n",
            "Epoch 5/50\n",
            "390/390 [==============================] - 32s 83ms/step - loss: 1.0637 - acc: 0.7917 - val_loss: 1.6585 - val_acc: 0.6692\n",
            "\n",
            "Epoch 00005: val_acc did not improve from 0.72030\n",
            "Epoch 6/50\n",
            "390/390 [==============================] - 32s 83ms/step - loss: 0.9878 - acc: 0.8098 - val_loss: 1.3763 - val_acc: 0.7014\n",
            "\n",
            "Epoch 00006: val_acc did not improve from 0.72030\n",
            "Epoch 7/50\n",
            "390/390 [==============================] - 32s 83ms/step - loss: 0.9370 - acc: 0.8220 - val_loss: 1.2438 - val_acc: 0.7400\n",
            "\n",
            "Epoch 00007: val_acc improved from 0.72030 to 0.74000, saving model to /content/saved_models/cifar10_ResNet18v1_model.007.h5\n",
            "Epoch 8/50\n",
            "390/390 [==============================] - 32s 83ms/step - loss: 0.8985 - acc: 0.8333 - val_loss: 0.9612 - val_acc: 0.8215\n",
            "\n",
            "Epoch 00008: val_acc improved from 0.74000 to 0.82150, saving model to /content/saved_models/cifar10_ResNet18v1_model.008.h5\n",
            "Epoch 9/50\n",
            "390/390 [==============================] - 32s 83ms/step - loss: 0.8704 - acc: 0.8412 - val_loss: 1.1877 - val_acc: 0.7607\n",
            "\n",
            "Epoch 00009: val_acc did not improve from 0.82150\n",
            "Epoch 10/50\n",
            "390/390 [==============================] - 32s 83ms/step - loss: 0.8516 - acc: 0.8455 - val_loss: 0.9526 - val_acc: 0.8186\n",
            "\n",
            "Epoch 00010: val_acc did not improve from 0.82150\n",
            "Epoch 11/50\n",
            "390/390 [==============================] - 32s 83ms/step - loss: 0.8157 - acc: 0.8565 - val_loss: 0.9540 - val_acc: 0.8115\n",
            "\n",
            "Epoch 00011: val_acc did not improve from 0.82150\n",
            "Epoch 12/50\n",
            "390/390 [==============================] - 33s 83ms/step - loss: 0.7959 - acc: 0.8618 - val_loss: 0.8801 - val_acc: 0.8311\n",
            "\n",
            "Epoch 00012: val_acc improved from 0.82150 to 0.83110, saving model to /content/saved_models/cifar10_ResNet18v1_model.012.h5\n",
            "Epoch 13/50\n",
            "390/390 [==============================] - 32s 83ms/step - loss: 0.7742 - acc: 0.8676 - val_loss: 0.8258 - val_acc: 0.8512\n",
            "\n",
            "Epoch 00013: val_acc improved from 0.83110 to 0.85120, saving model to /content/saved_models/cifar10_ResNet18v1_model.013.h5\n",
            "Epoch 14/50\n",
            "390/390 [==============================] - 32s 83ms/step - loss: 0.7577 - acc: 0.8719 - val_loss: 0.8940 - val_acc: 0.8318\n",
            "\n",
            "Epoch 00014: val_acc did not improve from 0.85120\n",
            "Epoch 15/50\n",
            "390/390 [==============================] - 32s 83ms/step - loss: 0.7396 - acc: 0.8780 - val_loss: 1.0010 - val_acc: 0.8036\n",
            "\n",
            "Epoch 00015: val_acc did not improve from 0.85120\n",
            "Epoch 16/50\n",
            "390/390 [==============================] - 32s 83ms/step - loss: 0.7187 - acc: 0.8828 - val_loss: 0.8676 - val_acc: 0.8378\n",
            "\n",
            "Epoch 00016: val_acc did not improve from 0.85120\n",
            "Epoch 17/50\n",
            "390/390 [==============================] - 32s 83ms/step - loss: 0.7038 - acc: 0.8868 - val_loss: 0.9395 - val_acc: 0.8166\n",
            "\n",
            "Epoch 00017: val_acc did not improve from 0.85120\n",
            "Epoch 18/50\n",
            "390/390 [==============================] - 32s 83ms/step - loss: 0.6996 - acc: 0.8887 - val_loss: 0.8765 - val_acc: 0.8321\n",
            "\n",
            "Epoch 00018: val_acc did not improve from 0.85120\n",
            "Epoch 19/50\n",
            "390/390 [==============================] - 32s 83ms/step - loss: 0.5581 - acc: 0.9307 - val_loss: 0.7161 - val_acc: 0.8808\n",
            "\n",
            "Epoch 00019: val_acc improved from 0.85120 to 0.88080, saving model to /content/saved_models/cifar10_ResNet18v1_model.019.h5\n",
            "Epoch 20/50\n",
            "390/390 [==============================] - 32s 83ms/step - loss: 0.4927 - acc: 0.9462 - val_loss: 0.6494 - val_acc: 0.8990\n",
            "\n",
            "Epoch 00020: val_acc improved from 0.88080 to 0.89900, saving model to /content/saved_models/cifar10_ResNet18v1_model.020.h5\n",
            "Epoch 21/50\n",
            "390/390 [==============================] - 32s 83ms/step - loss: 0.4616 - acc: 0.9499 - val_loss: 0.6537 - val_acc: 0.8981\n",
            "\n",
            "Epoch 00021: val_acc did not improve from 0.89900\n",
            "Epoch 22/50\n",
            "390/390 [==============================] - 32s 83ms/step - loss: 0.4385 - acc: 0.9533 - val_loss: 0.6930 - val_acc: 0.8834\n",
            "\n",
            "Epoch 00022: val_acc did not improve from 0.89900\n",
            "Epoch 23/50\n",
            "390/390 [==============================] - 32s 83ms/step - loss: 0.4243 - acc: 0.9555 - val_loss: 0.6914 - val_acc: 0.8783\n",
            "\n",
            "Epoch 00023: val_acc did not improve from 0.89900\n",
            "Epoch 24/50\n",
            "390/390 [==============================] - 32s 83ms/step - loss: 0.4110 - acc: 0.9565 - val_loss: 0.6852 - val_acc: 0.8851\n",
            "\n",
            "Epoch 00024: val_acc did not improve from 0.89900\n",
            "Epoch 25/50\n",
            "390/390 [==============================] - 32s 83ms/step - loss: 0.3933 - acc: 0.9594 - val_loss: 0.6580 - val_acc: 0.8925\n",
            "\n",
            "Epoch 00025: val_acc did not improve from 0.89900\n",
            "Epoch 26/50\n",
            "390/390 [==============================] - 32s 83ms/step - loss: 0.3570 - acc: 0.9706 - val_loss: 0.5721 - val_acc: 0.9122\n",
            "\n",
            "Epoch 00026: val_acc improved from 0.89900 to 0.91220, saving model to /content/saved_models/cifar10_ResNet18v1_model.026.h5\n",
            "Epoch 27/50\n",
            "390/390 [==============================] - 32s 83ms/step - loss: 0.3320 - acc: 0.9770 - val_loss: 0.5703 - val_acc: 0.9126\n",
            "\n",
            "Epoch 00027: val_acc improved from 0.91220 to 0.91260, saving model to /content/saved_models/cifar10_ResNet18v1_model.027.h5\n",
            "Epoch 28/50\n",
            "390/390 [==============================] - 32s 83ms/step - loss: 0.3240 - acc: 0.9770 - val_loss: 0.5785 - val_acc: 0.9127\n",
            "\n",
            "Epoch 00028: val_acc improved from 0.91260 to 0.91270, saving model to /content/saved_models/cifar10_ResNet18v1_model.028.h5\n",
            "Epoch 29/50\n",
            "390/390 [==============================] - 32s 83ms/step - loss: 0.3134 - acc: 0.9796 - val_loss: 0.5743 - val_acc: 0.9135\n",
            "\n",
            "Epoch 00029: val_acc improved from 0.91270 to 0.91350, saving model to /content/saved_models/cifar10_ResNet18v1_model.029.h5\n",
            "Epoch 30/50\n",
            "390/390 [==============================] - 32s 83ms/step - loss: 0.3135 - acc: 0.9776 - val_loss: 0.6199 - val_acc: 0.9028\n",
            "\n",
            "Epoch 00030: val_acc did not improve from 0.91350\n",
            "Epoch 31/50\n",
            "390/390 [==============================] - 32s 83ms/step - loss: 0.3049 - acc: 0.9787 - val_loss: 0.5569 - val_acc: 0.9159\n",
            "\n",
            "Epoch 00031: val_acc improved from 0.91350 to 0.91590, saving model to /content/saved_models/cifar10_ResNet18v1_model.031.h5\n",
            "Epoch 32/50\n",
            "390/390 [==============================] - 32s 83ms/step - loss: 0.2941 - acc: 0.9816 - val_loss: 0.5602 - val_acc: 0.9141\n",
            "\n",
            "Epoch 00032: val_acc did not improve from 0.91590\n",
            "Epoch 33/50\n",
            "390/390 [==============================] - 32s 83ms/step - loss: 0.2897 - acc: 0.9811 - val_loss: 0.5767 - val_acc: 0.9099\n",
            "\n",
            "Epoch 00033: val_acc did not improve from 0.91590\n",
            "Epoch 34/50\n",
            "390/390 [==============================] - 32s 82ms/step - loss: 0.2857 - acc: 0.9813 - val_loss: 0.5750 - val_acc: 0.9108\n",
            "\n",
            "Epoch 00034: val_acc did not improve from 0.91590\n",
            "Epoch 35/50\n",
            "390/390 [==============================] - 32s 83ms/step - loss: 0.2833 - acc: 0.9809 - val_loss: 0.5670 - val_acc: 0.9118\n",
            "\n",
            "Epoch 00035: val_acc did not improve from 0.91590\n",
            "Epoch 36/50\n",
            "390/390 [==============================] - 32s 83ms/step - loss: 0.2762 - acc: 0.9824 - val_loss: 0.5582 - val_acc: 0.9115\n",
            "\n",
            "Epoch 00036: val_acc did not improve from 0.91590\n",
            "Epoch 37/50\n",
            "390/390 [==============================] - 32s 83ms/step - loss: 0.2683 - acc: 0.9837 - val_loss: 0.5323 - val_acc: 0.9175\n",
            "\n",
            "Epoch 00037: val_acc improved from 0.91590 to 0.91750, saving model to /content/saved_models/cifar10_ResNet18v1_model.037.h5\n",
            "Epoch 38/50\n",
            "390/390 [==============================] - 32s 83ms/step - loss: 0.2639 - acc: 0.9852 - val_loss: 0.5313 - val_acc: 0.9187\n",
            "\n",
            "Epoch 00038: val_acc improved from 0.91750 to 0.91870, saving model to /content/saved_models/cifar10_ResNet18v1_model.038.h5\n",
            "Epoch 39/50\n",
            "390/390 [==============================] - 32s 83ms/step - loss: 0.2584 - acc: 0.9855 - val_loss: 0.5333 - val_acc: 0.9199\n",
            "\n",
            "Epoch 00039: val_acc improved from 0.91870 to 0.91990, saving model to /content/saved_models/cifar10_ResNet18v1_model.039.h5\n",
            "Epoch 40/50\n",
            "390/390 [==============================] - 32s 83ms/step - loss: 0.2558 - acc: 0.9861 - val_loss: 0.5332 - val_acc: 0.9180\n",
            "\n",
            "Epoch 00040: val_acc did not improve from 0.91990\n",
            "Epoch 41/50\n",
            "390/390 [==============================] - 32s 83ms/step - loss: 0.2544 - acc: 0.9865 - val_loss: 0.5398 - val_acc: 0.9191\n",
            "\n",
            "Epoch 00041: val_acc did not improve from 0.91990\n",
            "Epoch 42/50\n",
            "390/390 [==============================] - 32s 83ms/step - loss: 0.2507 - acc: 0.9875 - val_loss: 0.5352 - val_acc: 0.9176\n",
            "\n",
            "Epoch 00042: val_acc did not improve from 0.91990\n",
            "Epoch 43/50\n",
            "390/390 [==============================] - 32s 83ms/step - loss: 0.2507 - acc: 0.9866 - val_loss: 0.5339 - val_acc: 0.9197\n",
            "\n",
            "Epoch 00043: val_acc did not improve from 0.91990\n",
            "Epoch 44/50\n",
            "390/390 [==============================] - 32s 83ms/step - loss: 0.2490 - acc: 0.9873 - val_loss: 0.5255 - val_acc: 0.9192\n",
            "\n",
            "Epoch 00044: val_acc did not improve from 0.91990\n",
            "Epoch 45/50\n",
            "390/390 [==============================] - 32s 83ms/step - loss: 0.2436 - acc: 0.9888 - val_loss: 0.5261 - val_acc: 0.9200\n",
            "\n",
            "Epoch 00045: val_acc improved from 0.91990 to 0.92000, saving model to /content/saved_models/cifar10_ResNet18v1_model.045.h5\n",
            "Epoch 46/50\n",
            "390/390 [==============================] - 32s 83ms/step - loss: 0.2451 - acc: 0.9876 - val_loss: 0.5253 - val_acc: 0.9202\n",
            "\n",
            "Epoch 00046: val_acc improved from 0.92000 to 0.92020, saving model to /content/saved_models/cifar10_ResNet18v1_model.046.h5\n",
            "Epoch 47/50\n",
            "390/390 [==============================] - 32s 83ms/step - loss: 0.2433 - acc: 0.9881 - val_loss: 0.5258 - val_acc: 0.9207\n",
            "\n",
            "Epoch 00047: val_acc improved from 0.92020 to 0.92070, saving model to /content/saved_models/cifar10_ResNet18v1_model.047.h5\n",
            "Epoch 48/50\n",
            "390/390 [==============================] - 32s 83ms/step - loss: 0.2440 - acc: 0.9877 - val_loss: 0.5302 - val_acc: 0.9185\n",
            "\n",
            "Epoch 00048: val_acc did not improve from 0.92070\n",
            "Epoch 49/50\n",
            "390/390 [==============================] - 32s 83ms/step - loss: 0.2422 - acc: 0.9884 - val_loss: 0.5255 - val_acc: 0.9209\n",
            "\n",
            "Epoch 00049: val_acc improved from 0.92070 to 0.92090, saving model to /content/saved_models/cifar10_ResNet18v1_model.049.h5\n",
            "Epoch 50/50\n",
            "390/390 [==============================] - 32s 83ms/step - loss: 0.2392 - acc: 0.9887 - val_loss: 0.5269 - val_acc: 0.9209\n",
            "\n",
            "Epoch 00050: val_acc did not improve from 0.92090\n",
            "10000/10000 [==============================] - 3s 341us/step\n",
            "Test loss: 0.5269355347156525\n",
            "Test accuracy: 0.9209\n"
          ],
          "name": "stdout"
        }
      ]
    },
    {
      "cell_type": "code",
      "metadata": {
        "id": "LU_pWa3UJLJN",
        "colab_type": "code",
        "colab": {}
      },
      "source": [
        "def show_GradCam(input_img):\n",
        "    input_img = io.imread(input_img)\n",
        "    input_img = cv2.resize(input_img, dsize=(32, 32), interpolation=cv2.INTER_CUBIC)\n",
        "    x = image.img_to_array(input_img)\n",
        "    x = np.expand_dims(x, axis=0)\n",
        "    x = preprocess_input(x)   \n",
        "\n",
        "    preds = model.predict(x)\n",
        "    class_idx = np.argmax(preds[0])\n",
        "    print(class_idx)\n",
        "    class_output = model.output[:, class_idx]\n",
        "    last_conv_layer = model.get_layer(\"activation_136\") \n",
        "\n",
        "    from keras import backend as K\n",
        "    grads = K.gradients(class_output, last_conv_layer.output)[0]\n",
        "    print(grads.shape)\n",
        "    pooled_grads = K.mean(grads, axis=(0, 1, 2))\n",
        "    print(pooled_grads.shape)\n",
        "    iterate = K.function([model.input], [pooled_grads, last_conv_layer.output[0]])\n",
        "\n",
        "    pooled_grads_value, conv_layer_output_value = iterate([x])\n",
        "\n",
        "    for i in range(512):\n",
        "        conv_layer_output_value[:, :, i] *= pooled_grads_value[i]    \n",
        "\n",
        "    heatmap = np.mean(conv_layer_output_value, axis = -1)\n",
        "    print(conv_layer_output_value.shape)\n",
        "    print(heatmap.shape)\n",
        "    heatmap = np.maximum(heatmap, 0)\n",
        "    heatmap /= np.max(heatmap)\n",
        "\n",
        "    heatmap = cv2.resize(heatmap, (input_img.shape[1], input_img.shape[0]))\n",
        "    heatmap = np.uint8(255 * heatmap)\n",
        "    heatmap = cv2.applyColorMap(heatmap, cv2.COLORMAP_JET)\n",
        "    superimposed_img = cv2.addWeighted(input_img, 0.5, heatmap, 0.5, 0)\n",
        "\n",
        "    cv2_imshow(input_img)\n",
        "    cv2_imshow(superimposed_img)"
      ],
      "execution_count": 0,
      "outputs": []
    },
    {
      "cell_type": "code",
      "metadata": {
        "id": "MZ3aoPUiMA9x",
        "colab_type": "code",
        "colab": {}
      },
      "source": [
        "imgs = [\"http://getwallpapers.com/wallpaper/full/e/b/9/316315.jpg\",\"http://getwallpapers.com/wallpaper/full/2/8/a/316354.jpg\",\"http://getwallpapers.com/wallpaper/full/9/0/9/316437.jpg\"\n",
        ",\"http://getwallpapers.com/wallpaper/full/f/6/2/316502.jpg\",\"http://getwallpapers.com/wallpaper/full/d/5/5/316611.jpg\",\"http://getwallpapers.com/wallpaper/full/3/1/8/645044.jpg\"\n",
        ",\"http://getwallpapers.com/wallpaper/full/9/d/c/316713.jpg\",\"http://getwallpapers.com/wallpaper/full/e/6/3/593404.jpg\",\"http://getwallpapers.com/wallpaper/full/0/3/d/317456.jpg\"\n",
        ",\"http://getwallpapers.com/wallpaper/full/1/0/4/41347.jpg\"]\n",
        "\n",
        "# model.load_weights('/content/saved_models/cifar10_ResNet18v1_model.047.h5')"
      ],
      "execution_count": 0,
      "outputs": []
    },
    {
      "cell_type": "code",
      "metadata": {
        "id": "U0wI39AzJod4",
        "colab_type": "code",
        "colab": {
          "base_uri": "https://localhost:8080/",
          "height": 1000
        },
        "outputId": "5485d914-dc9a-4c48-ceb9-b7cab8c432f6"
      },
      "source": [
        "for i in range(10):\n",
        "  # img = io.imread(imgs[i])\n",
        "  show_GradCam(imgs[i])"
      ],
      "execution_count": 87,
      "outputs": [
        {
          "output_type": "stream",
          "text": [
            "1\n",
            "(?, 4, 4, 512)\n",
            "(512,)\n",
            "(4, 4, 512)\n",
            "(4, 4)\n"
          ],
          "name": "stdout"
        },
        {
          "output_type": "display_data",
          "data": {
            "image/png": "[encoded data removed]",
            "text/plain": [
              "<PIL.Image.Image image mode=RGB size=32x32 at 0x7F086A23AB70>"
            ]
          },
          "metadata": {
            "tags": []
          }
        },
        {
          "output_type": "display_data",
          "data": {
            "image/png": "[encoded data removed]",
            "text/plain": [
              "<PIL.Image.Image image mode=RGB size=32x32 at 0x7F086A1A4B38>"
            ]
          },
          "metadata": {
            "tags": []
          }
        },
        {
          "output_type": "stream",
          "text": [
            "1\n",
            "(?, 4, 4, 512)\n",
            "(512,)\n",
            "(4, 4, 512)\n",
            "(4, 4)\n"
          ],
          "name": "stdout"
        },
        {
          "output_type": "display_data",
          "data": {
            "image/png": "[encoded data removed]",
            "text/plain": [
              "<PIL.Image.Image image mode=RGB size=32x32 at 0x7F086A1ABE80>"
            ]
          },
          "metadata": {
            "tags": []
          }
        },
        {
          "output_type": "display_data",
          "data": {
            "image/png": "[encoded data removed]",
            "text/plain": [
              "<PIL.Image.Image image mode=RGB size=32x32 at 0x7F086A1ABE80>"
            ]
          },
          "metadata": {
            "tags": []
          }
        },
        {
          "output_type": "stream",
          "text": [
            "9\n",
            "(?, 4, 4, 512)\n",
            "(512,)\n",
            "(4, 4, 512)\n",
            "(4, 4)\n"
          ],
          "name": "stdout"
        },
        {
          "output_type": "display_data",
          "data": {
            "image/png": "[encoded data removed]",
            "text/plain": [
              "<PIL.Image.Image image mode=RGB size=32x32 at 0x7F086A112D30>"
            ]
          },
          "metadata": {
            "tags": []
          }
        },
        {
          "output_type": "display_data",
          "data": {
            "image/png": "[encoded data removed]",
            "text/plain": [
              "<PIL.Image.Image image mode=RGB size=32x32 at 0x7F086A112D30>"
            ]
          },
          "metadata": {
            "tags": []
          }
        },
        {
          "output_type": "stream",
          "text": [
            "9\n",
            "(?, 4, 4, 512)\n",
            "(512,)\n",
            "(4, 4, 512)\n",
            "(4, 4)\n"
          ],
          "name": "stdout"
        },
        {
          "output_type": "display_data",
          "data": {
            "image/png": "[encoded data removed]",
            "text/plain": [
              "<PIL.Image.Image image mode=RGB size=32x32 at 0x7F086F1414E0>"
            ]
          },
          "metadata": {
            "tags": []
          }
        },
        {
          "output_type": "display_data",
          "data": {
            "image/png": "[encoded data removed]",
            "text/plain": [
              "<PIL.Image.Image image mode=RGB size=32x32 at 0x7F086F1416D8>"
            ]
          },
          "metadata": {
            "tags": []
          }
        },
        {
          "output_type": "stream",
          "text": [
            "1\n",
            "(?, 4, 4, 512)\n",
            "(512,)\n",
            "(4, 4, 512)\n",
            "(4, 4)\n"
          ],
          "name": "stdout"
        },
        {
          "output_type": "display_data",
          "data": {
            "image/png": "[encoded data removed]",
            "text/plain": [
              "<PIL.Image.Image image mode=RGB size=32x32 at 0x7F086A109320>"
            ]
          },
          "metadata": {
            "tags": []
          }
        },
        {
          "output_type": "display_data",
          "data": {
            "image/png": "[encoded data removed]",
            "text/plain": [
              "<PIL.Image.Image image mode=RGB size=32x32 at 0x7F086A109320>"
            ]
          },
          "metadata": {
            "tags": []
          }
        },
        {
          "output_type": "stream",
          "text": [
            "9\n",
            "(?, 4, 4, 512)\n",
            "(512,)\n",
            "(4, 4, 512)\n",
            "(4, 4)\n"
          ],
          "name": "stdout"
        },
        {
          "output_type": "display_data",
          "data": {
            "image/png": "[encoded data removed]",
            "text/plain": [
              "<PIL.Image.Image image mode=RGB size=32x32 at 0x7F086D301F98>"
            ]
          },
          "metadata": {
            "tags": []
          }
        },
        {
          "output_type": "display_data",
          "data": {
            "image/png": "[encoded data removed]",
            "text/plain": [
              "<PIL.Image.Image image mode=RGB size=32x32 at 0x7F086D301588>"
            ]
          },
          "metadata": {
            "tags": []
          }
        },
        {
          "output_type": "stream",
          "text": [
            "9\n",
            "(?, 4, 4, 512)\n",
            "(512,)\n",
            "(4, 4, 512)\n",
            "(4, 4)\n"
          ],
          "name": "stdout"
        },
        {
          "output_type": "display_data",
          "data": {
            "image/png": "[encoded data removed]",
            "text/plain": [
              "<PIL.Image.Image image mode=RGB size=32x32 at 0x7F086D2E2E48>"
            ]
          },
          "metadata": {
            "tags": []
          }
        },
        {
          "output_type": "display_data",
          "data": {
            "image/png": "[encoded data removed]",
            "text/plain": [
              "<PIL.Image.Image image mode=RGB size=32x32 at 0x7F086D2E27B8>"
            ]
          },
          "metadata": {
            "tags": []
          }
        },
        {
          "output_type": "stream",
          "text": [
            "9\n",
            "(?, 4, 4, 512)\n",
            "(512,)\n",
            "(4, 4, 512)\n",
            "(4, 4)\n"
          ],
          "name": "stdout"
        },
        {
          "output_type": "display_data",
          "data": {
            "image/png": "[encoded data removed]",
            "text/plain": [
              "<PIL.Image.Image image mode=RGB size=32x32 at 0x7F086D1A0E80>"
            ]
          },
          "metadata": {
            "tags": []
          }
        },
        {
          "output_type": "display_data",
          "data": {
            "image/png": "[encoded data removed]",
            "text/plain": [
              "<PIL.Image.Image image mode=RGB size=32x32 at 0x7F086D1A0D30>"
            ]
          },
          "metadata": {
            "tags": []
          }
        },
        {
          "output_type": "stream",
          "text": [
            "9\n",
            "(?, 4, 4, 512)\n",
            "(512,)\n",
            "(4, 4, 512)\n",
            "(4, 4)\n"
          ],
          "name": "stdout"
        },
        {
          "output_type": "display_data",
          "data": {
            "image/png": "[encoded data removed]",
            "text/plain": [
              "<PIL.Image.Image image mode=RGB size=32x32 at 0x7F086D13D828>"
            ]
          },
          "metadata": {
            "tags": []
          }
        },
        {
          "output_type": "display_data",
          "data": {
            "image/png": "[encoded data removed]",
            "text/plain": [
              "<PIL.Image.Image image mode=RGB size=32x32 at 0x7F086D13D828>"
            ]
          },
          "metadata": {
            "tags": []
          }
        },
        {
          "output_type": "stream",
          "text": [
            "9\n",
            "(?, 4, 4, 512)\n",
            "(512,)\n",
            "(4, 4, 512)\n",
            "(4, 4)\n"
          ],
          "name": "stdout"
        },
        {
          "output_type": "display_data",
          "data": {
            "image/png": "[encoded data removed]",
            "text/plain": [
              "<PIL.Image.Image image mode=RGB size=32x32 at 0x7F086D1601D0>"
            ]
          },
          "metadata": {
            "tags": []
          }
        },
        {
          "output_type": "display_data",
          "data": {
            "image/png": "[encoded data removed]",
            "text/plain": [
              "<PIL.Image.Image image mode=RGB size=32x32 at 0x7F086D1601D0>"
            ]
          },
          "metadata": {
            "tags": []
          }
        }
      ]
    },
    {
      "cell_type": "code",
      "metadata": {
        "id": "5OsH6QP5Jtjw",
        "colab_type": "code",
        "colab": {}
      },
      "source": [
        ""
      ],
      "execution_count": 0,
      "outputs": []
    }
  ]
}